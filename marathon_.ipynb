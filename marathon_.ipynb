{
  "nbformat": 4,
  "nbformat_minor": 0,
  "metadata": {
    "colab": {
      "provenance": []
    },
    "kernelspec": {
      "name": "python3",
      "display_name": "Python 3"
    },
    "language_info": {
      "name": "python"
    }
  },
  "cells": [
    {
      "cell_type": "code",
      "execution_count": 1,
      "metadata": {
        "id": "m41AUkCluiTD"
      },
      "outputs": [],
      "source": [
        "from pyspark.sql import SparkSession\n",
        "from pyspark.sql.functions import col,year,month,regexp_extract\n",
        "\n",
        "#initilaise spark session\n",
        "spark = SparkSession.builder.appName(\"UltramarathonAnalysis\").getOrCreate()\n",
        "\n",
        "#loading the dataset\n",
        "file_path = \"/content/TWO_CENTURIES_OF_UM_RACES\"\n",
        "df = spark.read.csv(file_path, header =True, inferSchema=True)"
      ]
    },
    {
      "cell_type": "code",
      "source": [
        "df.printSchema()"
      ],
      "metadata": {
        "colab": {
          "base_uri": "https://localhost:8080/"
        },
        "id": "Vfyc4TncvYVK",
        "outputId": "472813ec-fbcc-4ca8-cf53-cd09ff23909d"
      },
      "execution_count": 2,
      "outputs": [
        {
          "output_type": "stream",
          "name": "stdout",
          "text": [
            "root\n",
            " |-- Year of event: integer (nullable = true)\n",
            " |-- Event dates: string (nullable = true)\n",
            " |-- Event name: string (nullable = true)\n",
            " |-- Event distance/length: string (nullable = true)\n",
            " |-- Event number of finishers: integer (nullable = true)\n",
            " |-- Athlete performance: string (nullable = true)\n",
            " |-- Athlete club: string (nullable = true)\n",
            " |-- Athlete country: string (nullable = true)\n",
            " |-- Athlete year of birth: double (nullable = true)\n",
            " |-- Athlete gender: string (nullable = true)\n",
            " |-- Athlete age category: string (nullable = true)\n",
            " |-- Athlete average speed: string (nullable = true)\n",
            " |-- Athlete ID: integer (nullable = true)\n",
            "\n"
          ]
        }
      ]
    },
    {
      "cell_type": "code",
      "source": [
        "df.show(5)"
      ],
      "metadata": {
        "colab": {
          "base_uri": "https://localhost:8080/"
        },
        "id": "698GLy7ZvfLx",
        "outputId": "eddaafc9-4b27-4c54-9d1a-10bf293529dd"
      },
      "execution_count": 3,
      "outputs": [
        {
          "output_type": "stream",
          "name": "stdout",
          "text": [
            "+-------------+-----------+-------------------+---------------------+-------------------------+-------------------+------------------+---------------+---------------------+--------------+--------------------+---------------------+----------+\n",
            "|Year of event|Event dates|         Event name|Event distance/length|Event number of finishers|Athlete performance|      Athlete club|Athlete country|Athlete year of birth|Athlete gender|Athlete age category|Athlete average speed|Athlete ID|\n",
            "+-------------+-----------+-------------------+---------------------+-------------------------+-------------------+------------------+---------------+---------------------+--------------+--------------------+---------------------+----------+\n",
            "|         2018| 06.01.2018|Selva Costera (CHI)|                 50km|                       22|          4:51:39 h|             Tnfrc|            CHI|               1978.0|             M|                 M35|               10.286|         0|\n",
            "|         2018| 06.01.2018|Selva Costera (CHI)|                 50km|                       22|          5:15:45 h|Roberto Echeverría|            CHI|               1981.0|             M|                 M35|                9.501|         1|\n",
            "|         2018| 06.01.2018|Selva Costera (CHI)|                 50km|                       22|          5:16:44 h| Puro Trail Osorno|            CHI|               1987.0|             M|                 M23|                9.472|         2|\n",
            "|         2018| 06.01.2018|Selva Costera (CHI)|                 50km|                       22|          5:34:13 h|          Columbia|            ARG|               1976.0|             M|                 M40|                8.976|         3|\n",
            "|         2018| 06.01.2018|Selva Costera (CHI)|                 50km|                       22|          5:54:14 h|    Baguales Trail|            CHI|               1992.0|             M|                 M23|                8.469|         4|\n",
            "+-------------+-----------+-------------------+---------------------+-------------------------+-------------------+------------------+---------------+---------------------+--------------+--------------------+---------------------+----------+\n",
            "only showing top 5 rows\n",
            "\n"
          ]
        }
      ]
    },
    {
      "cell_type": "code",
      "source": [
        "# Extract Year & Month from Event Dates\n",
        "df = df.withColumn(\"event_year\", year(col(\"Event dates\")))\n",
        "df = df.withColumn(\"event_month\", month(col(\"Event dates\")))\n"
      ],
      "metadata": {
        "id": "CD5mvnZCvimS"
      },
      "execution_count": 6,
      "outputs": []
    },
    {
      "cell_type": "code",
      "source": [
        "# Extract Country from Event Name (Assuming last word is country)\n",
        "df = df.withColumn(\"event_country\", regexp_extract(col(\"Event name\"), \"(\\\\w+)$\", 1))\n"
      ],
      "metadata": {
        "id": "UXKcD7NXwroi"
      },
      "execution_count": 7,
      "outputs": []
    },
    {
      "cell_type": "code",
      "source": [
        "from pyspark.sql.functions import to_date\n",
        "\n",
        "# Convert Event dates to DateType\n",
        "df = df.withColumn(\"event_date\", to_date(col(\"Event dates\"), \"yyyy-MM-dd\"))  # Adjust format if necessary\n",
        "\n",
        "# Extract Year & Month\n",
        "df = df.withColumn(\"event_year\", year(col(\"event_date\")))\n",
        "df = df.withColumn(\"event_month\", month(col(\"event_date\")))\n",
        "\n",
        "# Show transformed dataset\n",
        "df.select(\"event_date\", \"event_year\", \"event_month\", \"event_country\").show(5)\n"
      ],
      "metadata": {
        "colab": {
          "base_uri": "https://localhost:8080/"
        },
        "id": "nOV7zY6Ow8xR",
        "outputId": "2713d703-1ef3-499f-fa8c-52f55e4f7697"
      },
      "execution_count": 9,
      "outputs": [
        {
          "output_type": "stream",
          "name": "stdout",
          "text": [
            "+----------+----------+-----------+-------------+\n",
            "|event_date|event_year|event_month|event_country|\n",
            "+----------+----------+-----------+-------------+\n",
            "|      NULL|      NULL|       NULL|             |\n",
            "|      NULL|      NULL|       NULL|             |\n",
            "|      NULL|      NULL|       NULL|             |\n",
            "|      NULL|      NULL|       NULL|             |\n",
            "|      NULL|      NULL|       NULL|             |\n",
            "+----------+----------+-----------+-------------+\n",
            "only showing top 5 rows\n",
            "\n"
          ]
        }
      ]
    },
    {
      "cell_type": "code",
      "source": [
        "df.select(\"Event dates\").show(10, False)\n"
      ],
      "metadata": {
        "colab": {
          "base_uri": "https://localhost:8080/"
        },
        "id": "IvV_sFTjw_Ja",
        "outputId": "31e68037-d986-42cc-b890-190bee84a4f3"
      },
      "execution_count": 10,
      "outputs": [
        {
          "output_type": "stream",
          "name": "stdout",
          "text": [
            "+-----------+\n",
            "|Event dates|\n",
            "+-----------+\n",
            "|06.01.2018 |\n",
            "|06.01.2018 |\n",
            "|06.01.2018 |\n",
            "|06.01.2018 |\n",
            "|06.01.2018 |\n",
            "|06.01.2018 |\n",
            "|06.01.2018 |\n",
            "|06.01.2018 |\n",
            "|06.01.2018 |\n",
            "|06.01.2018 |\n",
            "+-----------+\n",
            "only showing top 10 rows\n",
            "\n"
          ]
        }
      ]
    },
    {
      "cell_type": "code",
      "source": [
        "from pyspark.sql.functions import to_date, col, year, month\n",
        "\n",
        "# Convert \"Event dates\" from \"DD.MM.YYYY\" format to a proper date type\n",
        "df = df.withColumn(\"event_date\", to_date(col(\"Event dates\"), \"dd.MM.yyyy\"))\n",
        "\n",
        "# Extract Year & Month\n",
        "df = df.withColumn(\"event_year\", year(col(\"event_date\")))\n",
        "df = df.withColumn(\"event_month\", month(col(\"event_date\")))\n",
        "\n",
        "# Show results\n",
        "df.select(\"Event dates\", \"event_date\", \"event_year\", \"event_month\").show(10, False)\n"
      ],
      "metadata": {
        "colab": {
          "base_uri": "https://localhost:8080/"
        },
        "id": "7ZzwGdU1yG5y",
        "outputId": "b2b6a174-e662-4ad5-da9d-141a7535ba30"
      },
      "execution_count": 11,
      "outputs": [
        {
          "output_type": "stream",
          "name": "stdout",
          "text": [
            "+-----------+----------+----------+-----------+\n",
            "|Event dates|event_date|event_year|event_month|\n",
            "+-----------+----------+----------+-----------+\n",
            "|06.01.2018 |2018-01-06|2018      |1          |\n",
            "|06.01.2018 |2018-01-06|2018      |1          |\n",
            "|06.01.2018 |2018-01-06|2018      |1          |\n",
            "|06.01.2018 |2018-01-06|2018      |1          |\n",
            "|06.01.2018 |2018-01-06|2018      |1          |\n",
            "|06.01.2018 |2018-01-06|2018      |1          |\n",
            "|06.01.2018 |2018-01-06|2018      |1          |\n",
            "|06.01.2018 |2018-01-06|2018      |1          |\n",
            "|06.01.2018 |2018-01-06|2018      |1          |\n",
            "|06.01.2018 |2018-01-06|2018      |1          |\n",
            "+-----------+----------+----------+-----------+\n",
            "only showing top 10 rows\n",
            "\n"
          ]
        }
      ]
    },
    {
      "cell_type": "code",
      "source": [
        "from pyspark.sql.functions import to_date, col, year, month, when, split\n",
        "\n",
        "# Split the \"Event dates\" column based on the hyphen\n",
        "df = df.withColumn(\"event_date_split\", split(col(\"Event dates\"), \"-\"))\n",
        "\n",
        "# Handle cases with a single date and date ranges\n",
        "df = df.withColumn(\n",
        "    \"event_date\",\n",
        "    when(\n",
        "        col(\"event_date_split\").getItem(1).isNull(),  # Check if it's a single date\n",
        "        to_date(col(\"event_date_split\").getItem(0), \"dd.MM.yyyy\")\n",
        "    ).otherwise(\n",
        "        to_date(col(\"event_date_split\").getItem(0), \"dd.MM.yyyy\")  # Take the first date in a range\n",
        "    )\n",
        ")\n",
        "\n",
        "# Extract Year & Month\n",
        "df = df.withColumn(\"event_year\", year(col(\"event_date\")))\n",
        "df = df.withColumn(\"event_month\", month(col(\"event_date\")))\n",
        "\n",
        "# Show results\n",
        "df.select(\"Event dates\", \"event_date\", \"event_year\", \"event_month\").show(10, False)"
      ],
      "metadata": {
        "colab": {
          "base_uri": "https://localhost:8080/"
        },
        "id": "mGSvr8xY3tKX",
        "outputId": "cf237982-c53f-424f-df12-a2e86d281f6f"
      },
      "execution_count": 13,
      "outputs": [
        {
          "output_type": "stream",
          "name": "stdout",
          "text": [
            "+-----------+----------+----------+-----------+\n",
            "|Event dates|event_date|event_year|event_month|\n",
            "+-----------+----------+----------+-----------+\n",
            "|06.01.2018 |2018-01-06|2018      |1          |\n",
            "|06.01.2018 |2018-01-06|2018      |1          |\n",
            "|06.01.2018 |2018-01-06|2018      |1          |\n",
            "|06.01.2018 |2018-01-06|2018      |1          |\n",
            "|06.01.2018 |2018-01-06|2018      |1          |\n",
            "|06.01.2018 |2018-01-06|2018      |1          |\n",
            "|06.01.2018 |2018-01-06|2018      |1          |\n",
            "|06.01.2018 |2018-01-06|2018      |1          |\n",
            "|06.01.2018 |2018-01-06|2018      |1          |\n",
            "|06.01.2018 |2018-01-06|2018      |1          |\n",
            "+-----------+----------+----------+-----------+\n",
            "only showing top 10 rows\n",
            "\n"
          ]
        }
      ]
    },
    {
      "cell_type": "code",
      "source": [
        "# How has partcipation in ultramarathons evolved over time?\n",
        "\n",
        "from pyspark.sql.functions import count\n",
        "\n",
        "# Count races per year\n",
        "df.groupby(\"event_year\").agg(count(\"*\").alias(\"num_races\")).orderBy(\"event_year\").show(10)"
      ],
      "metadata": {
        "colab": {
          "base_uri": "https://localhost:8080/"
        },
        "id": "AIoqqqMyzOk9",
        "outputId": "e44a3608-b959-48ce-ac2c-dc617991b7c1"
      },
      "execution_count": 14,
      "outputs": [
        {
          "output_type": "stream",
          "name": "stdout",
          "text": [
            "+----------+---------+\n",
            "|event_year|num_races|\n",
            "+----------+---------+\n",
            "|      NULL|   448893|\n",
            "|      2016|   414913|\n",
            "|      2017|   457176|\n",
            "|      2018|   502394|\n",
            "|      2019|    76161|\n",
            "+----------+---------+\n",
            "\n"
          ]
        }
      ]
    },
    {
      "cell_type": "code",
      "source": [
        "#What is the gender distribution in ultramarathons?\n",
        "\n",
        "from pyspark.sql.functions import countDistinct\n",
        "\n",
        "#Count male vs female participants\n",
        "df.groupBy(\"Athlete gender\").agg(countDistinct(\"Athlete ID\").alias(\"num_athletes\")).show()"
      ],
      "metadata": {
        "colab": {
          "base_uri": "https://localhost:8080/"
        },
        "id": "xnbmzSOa3UcB",
        "outputId": "58401a1d-b127-4ff3-c546-005a6bc8ac56"
      },
      "execution_count": 15,
      "outputs": [
        {
          "output_type": "stream",
          "name": "stdout",
          "text": [
            "+--------------+------------+\n",
            "|Athlete gender|num_athletes|\n",
            "+--------------+------------+\n",
            "|             F|      157220|\n",
            "|             M|      511180|\n",
            "|             X|           3|\n",
            "+--------------+------------+\n",
            "\n"
          ]
        }
      ]
    },
    {
      "cell_type": "code",
      "source": [
        "#What is the average age of ultramarathon runners?\n",
        "\n",
        "from pyspark.sql.functions import avg\n",
        "\n",
        "#Calculate average age\n",
        "df.withColumn(\"Athlete age\", col(\"event_year\") - col(\"Athlete year of birth\"))\\\n",
        ".select(avg(\"Athlete age\")).show()"
      ],
      "metadata": {
        "colab": {
          "base_uri": "https://localhost:8080/"
        },
        "id": "on7omkZg4XuY",
        "outputId": "d80dcb87-1dd2-4c4f-ce73-7ff73b1a0145"
      },
      "execution_count": 16,
      "outputs": [
        {
          "output_type": "stream",
          "name": "stdout",
          "text": [
            "+-----------------+\n",
            "| avg(Athlete age)|\n",
            "+-----------------+\n",
            "|42.29559244359424|\n",
            "+-----------------+\n",
            "\n"
          ]
        }
      ]
    },
    {
      "cell_type": "code",
      "source": [
        "#What are the most common race distances\n",
        "\n",
        "df.groupBy(\"Event distance/length\").count().orderBy(\"count\", ascending=False).show()"
      ],
      "metadata": {
        "colab": {
          "base_uri": "https://localhost:8080/"
        },
        "id": "stvJOJee48ZN",
        "outputId": "932936b7-a389-445a-be40-f05348ee3b8a"
      },
      "execution_count": 20,
      "outputs": [
        {
          "output_type": "stream",
          "name": "stdout",
          "text": [
            "+---------------------+------+\n",
            "|Event distance/length| count|\n",
            "+---------------------+------+\n",
            "|                 50km|433491|\n",
            "|                100km|206052|\n",
            "|                 50mi| 66118|\n",
            "|                 56km| 55867|\n",
            "|                 45km| 49423|\n",
            "|                 60km| 47522|\n",
            "|                 55km| 41887|\n",
            "|                  24h| 37473|\n",
            "|                100mi| 36649|\n",
            "|                 70km| 31044|\n",
            "|                  12h| 30706|\n",
            "|                   6h| 30005|\n",
            "|                 52km| 30001|\n",
            "|                 48km| 26807|\n",
            "|                 80km| 26471|\n",
            "|                 65km| 24795|\n",
            "|                 90km| 23419|\n",
            "|                 54km| 20838|\n",
            "|                 53km| 20755|\n",
            "|                 46km| 19213|\n",
            "+---------------------+------+\n",
            "only showing top 20 rows\n",
            "\n"
          ]
        }
      ]
    },
    {
      "cell_type": "code",
      "source": [
        "#Which countries have the fastest runners on average?\n",
        "\n",
        "df.groupBy(\"Athlete country\").agg(avg(\"Athlete average speed\").alias(\"avg_speed\")) \\\n",
        ".orderBy(\"avg_speed\", ascending=False).show(10)"
      ],
      "metadata": {
        "colab": {
          "base_uri": "https://localhost:8080/"
        },
        "id": "Q2h6xwUp5TSl",
        "outputId": "2a0f4df5-44d3-473a-e353-3e4950bba354"
      },
      "execution_count": 21,
      "outputs": [
        {
          "output_type": "stream",
          "name": "stdout",
          "text": [
            "+---------------+------------------+\n",
            "|Athlete country|         avg_speed|\n",
            "+---------------+------------------+\n",
            "|            ETH| 13.00621153846154|\n",
            "|            LES| 11.45335761589404|\n",
            "|            MAW|      11.068765625|\n",
            "|            KEN|10.388723502304144|\n",
            "|            MOZ|10.021866666666666|\n",
            "|            ZIM| 9.977878612716767|\n",
            "|            UGA| 9.967936170212766|\n",
            "|            RWA| 9.777249999999999|\n",
            "|            SWZ| 9.401596330275227|\n",
            "|            LBA|             9.359|\n",
            "+---------------+------------------+\n",
            "only showing top 10 rows\n",
            "\n"
          ]
        }
      ]
    },
    {
      "cell_type": "code",
      "source": [
        "from pyspark.sql.functions import avg\n",
        "\n",
        "# Average speed over the years\n",
        "df.groupBy(\"event_year\").agg(avg(\"Athlete average speed\").alias(\"avg_speed\")).orderBy(\"event_year\").show(10)\n"
      ],
      "metadata": {
        "colab": {
          "base_uri": "https://localhost:8080/"
        },
        "id": "myyMCq3q6Rgb",
        "outputId": "243cdecb-ef48-4eaa-feb4-2e1f50488b5f"
      },
      "execution_count": 22,
      "outputs": [
        {
          "output_type": "stream",
          "name": "stdout",
          "text": [
            "+----------+-----------------+\n",
            "|event_year|        avg_speed|\n",
            "+----------+-----------------+\n",
            "|      NULL|5.494823447313192|\n",
            "|      2016|7.358469770536641|\n",
            "|      2017|7.235842806466417|\n",
            "|      2018|7.133135042915782|\n",
            "|      2019|7.691136713980048|\n",
            "+----------+-----------------+\n",
            "\n"
          ]
        }
      ]
    },
    {
      "cell_type": "code",
      "source": [
        "#At what age do ultramarathon runners perform best?\n",
        "df = df.withColumn(\"Athlete age\", col(\"event_year\") - col(\"Athlete year of birth\"))\n",
        "\n",
        "# Group by age and get average speed\n",
        "df.groupBy(\"Athlete age\").agg(avg(\"Athlete average speed\").alias(\"avg_speed\")).orderBy(\"Athlete age\").show()\n"
      ],
      "metadata": {
        "colab": {
          "base_uri": "https://localhost:8080/"
        },
        "id": "1wkLOj9x81qw",
        "outputId": "d9770e0b-b22d-45ee-9233-47f92a02e981"
      },
      "execution_count": 23,
      "outputs": [
        {
          "output_type": "stream",
          "name": "stdout",
          "text": [
            "+-----------+------------------+\n",
            "|Athlete age|         avg_speed|\n",
            "+-----------+------------------+\n",
            "|       NULL| 5.772467590545499|\n",
            "|        0.0|             4.799|\n",
            "|        2.0|             6.081|\n",
            "|        3.0|             4.833|\n",
            "|        5.0|             6.466|\n",
            "|        6.0|             7.665|\n",
            "|        7.0|6.1240000000000006|\n",
            "|        8.0|           4.83725|\n",
            "|        9.0|4.9281999999999995|\n",
            "|       10.0| 5.466272727272727|\n",
            "|       11.0| 5.249642857142855|\n",
            "|       12.0| 5.959541666666669|\n",
            "|       13.0| 5.688461538461539|\n",
            "|       14.0| 6.281279069767442|\n",
            "|       15.0| 6.574620967741936|\n",
            "|       16.0| 6.804905594405593|\n",
            "|       17.0| 7.203809069212412|\n",
            "|       18.0| 6.834027677496997|\n",
            "|       19.0|6.9493510082150864|\n",
            "|       20.0|7.3671006914433965|\n",
            "+-----------+------------------+\n",
            "only showing top 20 rows\n",
            "\n"
          ]
        }
      ]
    },
    {
      "cell_type": "markdown",
      "source": [
        "PREDICTING RACE PERFORMANCE\n"
      ],
      "metadata": {
        "id": "kwWTqR8P9Kor"
      }
    },
    {
      "cell_type": "code",
      "source": [
        "from pyspark.ml.feature import StringIndexer, VectorAssembler\n",
        "from pyspark.ml.regression import LinearRegression\n",
        "\n",
        "# Convert categorical columns to numerical\n",
        "indexer_gender = StringIndexer(inputCol=\"Athlete gender\", outputCol=\"gender_index\")\n",
        "indexer_race = StringIndexer(inputCol=\"Event distance/length\", outputCol=\"race_index\")\n",
        "\n",
        "df = indexer_gender.fit(df).transform(df)\n",
        "df = indexer_race.fit(df).transform(df)\n",
        "\n",
        "# Create a feature vector\n",
        "feature_cols = [\"Athlete age\", \"gender_index\", \"race_index\"]\n",
        "assembler = VectorAssembler(inputCols=feature_cols, outputCol=\"features\")\n",
        "df = assembler.transform(df).select(\"features\", col(\"Athlete average speed\").alias(\"label\"))\n"
      ],
      "metadata": {
        "id": "cdA-pgv19BKB"
      },
      "execution_count": 24,
      "outputs": []
    },
    {
      "cell_type": "code",
      "source": [
        "df = df.withColumn(\"label\", col(\"label\").cast(\"double\"))\n"
      ],
      "metadata": {
        "id": "aiCMZlLFA8Mn"
      },
      "execution_count": 30,
      "outputs": []
    },
    {
      "cell_type": "code",
      "source": [
        "df.printSchema()\n",
        "df.show(5)\n"
      ],
      "metadata": {
        "colab": {
          "base_uri": "https://localhost:8080/"
        },
        "id": "R_6P5Q4t92X4",
        "outputId": "20a20ed7-02e1-40e6-f3f6-f72409fccb6f"
      },
      "execution_count": 31,
      "outputs": [
        {
          "output_type": "stream",
          "name": "stdout",
          "text": [
            "root\n",
            " |-- features: vector (nullable = true)\n",
            " |-- label: double (nullable = true)\n",
            "\n",
            "+--------------+------+\n",
            "|      features| label|\n",
            "+--------------+------+\n",
            "|[40.0,0.0,0.0]|10.286|\n",
            "|[37.0,0.0,0.0]| 9.501|\n",
            "|[31.0,0.0,0.0]| 9.472|\n",
            "|[42.0,0.0,0.0]| 8.976|\n",
            "|[26.0,0.0,0.0]| 8.469|\n",
            "+--------------+------+\n",
            "only showing top 5 rows\n",
            "\n"
          ]
        }
      ]
    },
    {
      "cell_type": "code",
      "source": [
        "# Split data into 80% training and 20% testing\n",
        "train_data, test_data = df.randomSplit([0.8, 0.2], seed=42)\n"
      ],
      "metadata": {
        "id": "1_hcSpKSA_BU"
      },
      "execution_count": 32,
      "outputs": []
    },
    {
      "cell_type": "code",
      "source": [
        "df.printSchema()"
      ],
      "metadata": {
        "colab": {
          "base_uri": "https://localhost:8080/"
        },
        "id": "Q_40uev1BBjN",
        "outputId": "6bc6e8a2-f2c3-45e9-e87e-0ad7eb15ee2f"
      },
      "execution_count": 36,
      "outputs": [
        {
          "output_type": "stream",
          "name": "stdout",
          "text": [
            "root\n",
            " |-- features: vector (nullable = true)\n",
            " |-- label: double (nullable = true)\n",
            "\n"
          ]
        }
      ]
    },
    {
      "cell_type": "code",
      "source": [
        "from pyspark.ml.functions import vector_to_array\n",
        "\n",
        "# Convert vector column to an array\n",
        "df = df.withColumn(\"features_array\", vector_to_array(\"features\"))\n",
        "\n",
        "# Check feature indices (assuming the order was [\"Athlete age\", \"gender_index\", \"race_index\"])\n",
        "df = df.withColumn(\"Athlete age\", df[\"features_array\"][0])\n",
        "df = df.withColumn(\"gender_index\", df[\"features_array\"][1])\n",
        "df = df.withColumn(\"race_index\", df[\"features_array\"][2])\n",
        "\n",
        "# Show the extracted columns\n",
        "df.select(\"Athlete age\", \"gender_index\", \"race_index\", \"label\").show(5)\n"
      ],
      "metadata": {
        "colab": {
          "base_uri": "https://localhost:8080/"
        },
        "id": "a-tac504BDjH",
        "outputId": "31181323-3a87-4b4a-940e-c48cd3fa5908"
      },
      "execution_count": 40,
      "outputs": [
        {
          "output_type": "stream",
          "name": "stdout",
          "text": [
            "+-----------+------------+----------+------+\n",
            "|Athlete age|gender_index|race_index| label|\n",
            "+-----------+------------+----------+------+\n",
            "|       40.0|         0.0|       0.0|10.286|\n",
            "|       37.0|         0.0|       0.0| 9.501|\n",
            "|       31.0|         0.0|       0.0| 9.472|\n",
            "|       42.0|         0.0|       0.0| 8.976|\n",
            "|       26.0|         0.0|       0.0| 8.469|\n",
            "+-----------+------------+----------+------+\n",
            "only showing top 5 rows\n",
            "\n"
          ]
        }
      ]
    },
    {
      "cell_type": "code",
      "source": [
        "print(df.columns)\n"
      ],
      "metadata": {
        "colab": {
          "base_uri": "https://localhost:8080/"
        },
        "id": "FRquhfdfC87y",
        "outputId": "3ed31b6b-ec19-42b6-ccd6-148a6edb229c"
      },
      "execution_count": 41,
      "outputs": [
        {
          "output_type": "stream",
          "name": "stdout",
          "text": [
            "['features', 'label', 'features_array', 'Athlete age', 'gender_index', 'race_index']\n"
          ]
        }
      ]
    },
    {
      "cell_type": "code",
      "source": [
        "df = df.withColumnRenamed(\"Athlete_Age\", \"Athlete age\")\n"
      ],
      "metadata": {
        "id": "zQMT98IZDmSG"
      },
      "execution_count": 42,
      "outputs": []
    },
    {
      "cell_type": "code",
      "source": [
        "print(df.columns)\n"
      ],
      "metadata": {
        "colab": {
          "base_uri": "https://localhost:8080/"
        },
        "id": "c3SQM0ZLDoNb",
        "outputId": "b597ebfd-4b44-43d6-b43b-fb9c1af3d757"
      },
      "execution_count": 45,
      "outputs": [
        {
          "output_type": "stream",
          "name": "stdout",
          "text": [
            "['features', 'label', 'features_array', 'Athlete age', 'gender_index', 'race_index']\n"
          ]
        }
      ]
    },
    {
      "cell_type": "code",
      "source": [
        "df_raw = spark.read.csv(\"/content/TWO_CENTURIES_OF_UM_RACES\", header=True, inferSchema=True)\n",
        "df_raw.printSchema()\n"
      ],
      "metadata": {
        "colab": {
          "base_uri": "https://localhost:8080/"
        },
        "id": "j7KWRBYSDqL7",
        "outputId": "1ab228a6-7f46-4c5d-cd58-ab35402f91a7"
      },
      "execution_count": 46,
      "outputs": [
        {
          "output_type": "stream",
          "name": "stdout",
          "text": [
            "root\n",
            " |-- Year of event: integer (nullable = true)\n",
            " |-- Event dates: string (nullable = true)\n",
            " |-- Event name: string (nullable = true)\n",
            " |-- Event distance/length: string (nullable = true)\n",
            " |-- Event number of finishers: integer (nullable = true)\n",
            " |-- Athlete performance: string (nullable = true)\n",
            " |-- Athlete club: string (nullable = true)\n",
            " |-- Athlete country: string (nullable = true)\n",
            " |-- Athlete year of birth: double (nullable = true)\n",
            " |-- Athlete gender: string (nullable = true)\n",
            " |-- Athlete age category: string (nullable = true)\n",
            " |-- Athlete average speed: string (nullable = true)\n",
            " |-- Athlete ID: integer (nullable = true)\n",
            "\n"
          ]
        }
      ]
    },
    {
      "cell_type": "code",
      "source": [
        "from pyspark.sql import SparkSession\n",
        "from pyspark.sql.functions import col,year,month,regexp_extract, to_date, when, split, avg\n",
        "from pyspark.sql.functions import count, countDistinct\n",
        "from pyspark.ml.feature import StringIndexer, VectorAssembler\n",
        "\n",
        "#initialize spark session\n",
        "spark = SparkSession.builder.appName(\"UltramarathonAnalysis\").getOrCreate()\n",
        "\n",
        "#loading the dataset\n",
        "file_path = \"/content/TWO_CENTURIES_OF_UM_RACES\"\n",
        "df_raw = spark.read.csv(file_path, header =True, inferSchema=True)\n",
        "\n",
        "# Convert \"Event dates\" to a proper date type and extract year and month\n",
        "df_raw = df_raw.withColumn(\"event_date_split\", split(col(\"Event dates\"), \"-\"))\n",
        "df_raw = df_raw.withColumn(\n",
        "    \"event_date\",\n",
        "    when(\n",
        "        col(\"event_date_split\").getItem(1).isNull(),  # Check if it's a single date\n",
        "        to_date(col(\"event_date_split\").getItem(0), \"dd.MM.yyyy\")\n",
        "    ).otherwise(\n",
        "        to_date(col(\"event_date_split\").getItem(0), \"dd.MM.yyyy\")  # Take the first date in a range\n",
        "    )\n",
        ")\n",
        "df_raw = df_raw.withColumn(\"event_year\", year(col(\"event_date\")))\n",
        "df_raw = df_raw.withColumn(\"event_month\", month(col(\"event_date\")))\n",
        "\n",
        "\n",
        "# Calculate Athlete age\n",
        "df_raw = df_raw.withColumn(\"Athlete age\", col(\"event_year\") - col(\"Athlete year of birth\"))\n",
        "\n",
        "# Convert categorical columns to numerical using StringIndexer\n",
        "indexer_gender = StringIndexer(inputCol=\"Athlete gender\", outputCol=\"gender_index\")\n",
        "indexer_race = StringIndexer(inputCol=\"Event distance/length\", outputCol=\"race_index\")\n",
        "\n",
        "df_raw = indexer_gender.fit(df_raw).transform(df_raw)\n",
        "df_raw = indexer_race.fit(df_raw).transform(df_raw)\n",
        "\n",
        "# Assuming \"Athlete average speed\" is your label column\n",
        "df = df_raw.select(\"Athlete age\", \"gender_index\", \"race_index\", col(\"Athlete average speed\").alias(\"label\"))\n",
        "df.show(5)"
      ],
      "metadata": {
        "colab": {
          "base_uri": "https://localhost:8080/"
        },
        "id": "oj3LvIaAEamD",
        "outputId": "bc14c5c9-e08f-47e7-c214-d5871a535e85"
      },
      "execution_count": 48,
      "outputs": [
        {
          "output_type": "stream",
          "name": "stdout",
          "text": [
            "+-----------+------------+----------+------+\n",
            "|Athlete age|gender_index|race_index| label|\n",
            "+-----------+------------+----------+------+\n",
            "|       40.0|         0.0|       0.0|10.286|\n",
            "|       37.0|         0.0|       0.0| 9.501|\n",
            "|       31.0|         0.0|       0.0| 9.472|\n",
            "|       42.0|         0.0|       0.0| 8.976|\n",
            "|       26.0|         0.0|       0.0| 8.469|\n",
            "+-----------+------------+----------+------+\n",
            "only showing top 5 rows\n",
            "\n"
          ]
        }
      ]
    },
    {
      "cell_type": "code",
      "source": [
        "train_df, test_df = df.randomSplit([0.8, 0.2], seed=42)\n"
      ],
      "metadata": {
        "id": "D4uaX_rrEsxB"
      },
      "execution_count": 49,
      "outputs": []
    },
    {
      "cell_type": "code",
      "source": [],
      "metadata": {
        "id": "-4ELtpL4H1oF"
      },
      "execution_count": null,
      "outputs": []
    }
  ]
}